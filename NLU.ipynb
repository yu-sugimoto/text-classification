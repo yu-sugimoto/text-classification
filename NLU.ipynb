{
  "cells": [
    {
      "cell_type": "markdown",
      "id": "TnxioF249Fip",
      "metadata": {
        "id": "TnxioF249Fip"
      },
      "source": [
        "# Setup"
      ]
    },
    {
      "cell_type": "code",
      "execution_count": null,
      "id": "db251200-a2ec-45c5-99b0-c7931b9c3a37",
      "metadata": {
        "id": "db251200-a2ec-45c5-99b0-c7931b9c3a37"
      },
      "outputs": [],
      "source": [
        "# one of the NLU services\n",
        "from ibm_watson import NaturalLanguageUnderstandingV1\n",
        "# access control by IAM\n",
        "from ibm_cloud_sdk_core.authenticators import IAMAuthenticator\n",
        "import pandas as pd"
      ]
    },
    {
      "cell_type": "code",
      "execution_count": null,
      "id": "a9b4c013-273a-4095-868a-bddeb56c4f1a",
      "metadata": {
        "id": "a9b4c013-273a-4095-868a-bddeb56c4f1a"
      },
      "outputs": [],
      "source": [
        "# additional information about NLU\n",
        "# multi_api_key = \"[INSERT YOUR API KEY HERE]\"\n",
        "# multi_url = \"[INSERT YOUR NLU URL HERE]\"\n",
        "multi_api_key = \"*************************\"\n",
        "multi_url = \"********************\""
      ]
    },
    {
      "cell_type": "code",
      "execution_count": null,
      "id": "22c095ce-9379-45c6-9e98-e879ecfc18c5",
      "metadata": {
        "id": "22c095ce-9379-45c6-9e98-e879ecfc18c5"
      },
      "outputs": [],
      "source": [
        "# setup information about NLU\n",
        "multi_auth = IAMAuthenticator(multi_api_key)\n",
        "multi_nlu = NaturalLanguageUnderstandingV1(\n",
        "    version=\"2022-08-10\", authenticator=multi_auth\n",
        ")\n",
        "multi_nlu.set_service_url(multi_url)"
      ]
    },
    {
      "cell_type": "markdown",
      "id": "BewoMAFY9oqt",
      "metadata": {
        "id": "BewoMAFY9oqt"
      },
      "source": [
        "# Loading Training Data"
      ]
    },
    {
      "cell_type": "code",
      "execution_count": null,
      "id": "3135baff-1e5e-46db-b795-696ef623e3f9",
      "metadata": {
        "id": "3135baff-1e5e-46db-b795-696ef623e3f9"
      },
      "outputs": [],
      "source": [
        "# train_df = pd.read_csv(\"./NLU_TrainData_ver1.csv\", header=None)\n",
        "train_df = pd.read_csv(\"学習データ.csv\", header=None, sheet_name=\"学習\") "
      ]
    },
    {
      "cell_type": "code",
      "execution_count": null,
      "id": "b8403c2c",
      "metadata": {
        "id": "b8403c2c"
      },
      "outputs": [],
      "source": [
        "# confirmation of dataframe training data (0:category, 1：text)\n",
        "train_df = train_df[[0, 1]]"
      ]
    },
    {
      "cell_type": "code",
      "execution_count": null,
      "id": "bfb470ab",
      "metadata": {
        "id": "bfb470ab"
      },
      "outputs": [],
      "source": [
        "# remove missing values\n",
        "train_df.dropna(inplace=True)"
      ]
    },
    {
      "cell_type": "code",
      "execution_count": null,
      "id": "eb2e2c49",
      "metadata": {
        "id": "eb2e2c49"
      },
      "outputs": [],
      "source": [
        "# get the first 100 characters of the question text and add them to the text column\n",
        "train_df.loc[:, 1] = train_df[1].apply(lambda x: str(x)[:100])\n",
        "train_df"
      ]
    },
    {
      "cell_type": "code",
      "execution_count": null,
      "id": "06ea524c",
      "metadata": {
        "id": "06ea524c"
      },
      "outputs": [],
      "source": [
        "# confirmation of the number of each category\n",
        "pd.value_counts(train_df[0])"
      ]
    },
    {
      "cell_type": "code",
      "execution_count": null,
      "id": "90d0fc77",
      "metadata": {
        "id": "90d0fc77"
      },
      "outputs": [],
      "source": [
        "# double the training data (when data is scarce)\n",
        "train_df = pd.concat([train_df, train_df])"
      ]
    },
    {
      "cell_type": "code",
      "execution_count": null,
      "id": "0029ae1a-01f4-485f-ac1c-96d5d20b8ab0",
      "metadata": {
        "id": "0029ae1a-01f4-485f-ac1c-96d5d20b8ab0"
      },
      "outputs": [],
      "source": [
        "# transform from dataframe to json\n",
        "training_data = []\n",
        "for val in train_df.iterrows():\n",
        "    dic = {}\n",
        "    dic.update({\"text\": val[1][1]})\n",
        "    dic.update({\"labels\": [val[1][0]]})\n",
        "    training_data.append(dic)"
      ]
    },
    {
      "cell_type": "code",
      "execution_count": null,
      "id": "a54eb8c6-a5d4-4223-a22f-ae494f5559a2",
      "metadata": {
        "id": "a54eb8c6-a5d4-4223-a22f-ae494f5559a2",
        "scrolled": true
      },
      "outputs": [],
      "source": [
        "# confirmation of json training data ([{\"text\",\"label\"}])\n",
        "training_data"
      ]
    },
    {
      "cell_type": "code",
      "execution_count": null,
      "id": "fee9cfc5-f043-4880-af33-b3c8e5f41bc7",
      "metadata": {
        "id": "fee9cfc5-f043-4880-af33-b3c8e5f41bc7"
      },
      "outputs": [],
      "source": [
        "# save training data in a file\n",
        "import json\n",
        "\n",
        "training_data_filename = \"training_data.json\"\n",
        "\n",
        "with open(training_data_filename, \"w\", encoding=\"utf-8\") as f:\n",
        "    json.dump(training_data, f, indent=4, ensure_ascii=False)"
      ]
    },
    {
      "cell_type": "markdown",
      "id": "93e4bf84",
      "metadata": {
        "id": "93e4bf84"
      },
      "source": [
        "# Create Model\n"
      ]
    },
    {
      "cell_type": "code",
      "execution_count": null,
      "id": "b65cc799-97f5-4482-b195-35c43acb4042",
      "metadata": {
        "id": "b65cc799-97f5-4482-b195-35c43acb4042"
      },
      "outputs": [],
      "source": [
        "with open(training_data_filename, \"r\") as file:\n",
        "    multi_label_model = multi_nlu.create_classifications_model(\n",
        "        language=\"ja\",\n",
        "        training_data=file,\n",
        "        training_parameters={\"model_type\": \"multi_label\"},\n",
        "        training_data_content_type=\"application/json\",\n",
        "        # training_data_content_type='application/csv',\n",
        "        name=\"MyMultiLabelClassificationsModel\",\n",
        "        model_version=\"1.0.1\",\n",
        "    ).get_result()\n",
        "    print(json.dumps(multi_label_model, indent=4))"
      ]
    },
    {
      "cell_type": "markdown",
      "id": "95bba6fe",
      "metadata": {
        "id": "95bba6fe"
      },
      "source": [
        "# Information about the created Model\n"
      ]
    },
    {
      "cell_type": "code",
      "execution_count": null,
      "id": "57ebd073-ed0a-441a-8a9b-34457977a3e0",
      "metadata": {
        "id": "57ebd073-ed0a-441a-8a9b-34457977a3e0",
        "outputId": "b9c3d645-9b5b-49a0-9855-e9cd6a577dd0"
      },
      "outputs": [
        {
          "name": "stdout",
          "output_type": "stream",
          "text": [
            "{\n",
            "    \"name\": \"MyMultiLabelClassificationsModel\",\n",
            "    \"user_metadata\": null,\n",
            "    \"language\": \"ja\",\n",
            "    \"description\": null,\n",
            "    \"model_version\": \"1.0.1\",\n",
            "    \"version\": \"1.0.1\",\n",
            "    \"workspace_id\": null,\n",
            "    \"version_description\": null,\n",
            "    \"status\": \"available\",\n",
            "    \"notices\": [],\n",
            "    \"model_id\": \"3abc43b1-cfd2-4436-84d7-d96c6c4c1586\",\n",
            "    \"features\": [\n",
            "        \"classifications\"\n",
            "    ],\n",
            "    \"created\": \"2024-02-27T05:52:59Z\",\n",
            "    \"last_trained\": \"2024-02-27T05:52:59Z\",\n",
            "    \"last_deployed\": \"2024-02-27T05:55:12Z\"\n",
            "}\n"
          ]
        }
      ],
      "source": [
        "# multi_model_id = multi_label_model['model_id']\n",
        "multi_model_id = \"3abc43b1-cfd2-4436-84d7-d96c6c4c1586\"\n",
        "multi_model_to_view = multi_nlu.get_classifications_model(\n",
        "    model_id=multi_model_id\n",
        ").get_result()\n",
        "print(json.dumps(multi_model_to_view, indent=4))"
      ]
    },
    {
      "cell_type": "code",
      "execution_count": null,
      "id": "7ff5050c-44f7-4726-86ae-6f07e993abcf",
      "metadata": {
        "id": "7ff5050c-44f7-4726-86ae-6f07e993abcf"
      },
      "outputs": [],
      "source": [
        "# # import necessary functions for classification\n",
        "from ibm_watson.natural_language_understanding_v1 import (\n",
        "    Features,\n",
        "    ClassificationsOptions,\n",
        ")"
      ]
    },
    {
      "cell_type": "code",
      "execution_count": null,
      "id": "10b68e3c-53e8-486d-bfea-c3b31884fcce",
      "metadata": {
        "id": "10b68e3c-53e8-486d-bfea-c3b31884fcce"
      },
      "outputs": [],
      "source": [
        "# import necessary functions for model evaluation\n",
        "from sklearn.metrics import f1_score, accuracy_score"
      ]
    },
    {
      "cell_type": "markdown",
      "id": "7d5d4f7c",
      "metadata": {
        "id": "7d5d4f7c"
      },
      "source": [
        "# Loading Test Data\n"
      ]
    },
    {
      "cell_type": "code",
      "execution_count": null,
      "id": "8c1956db-f1d0-4673-9e41-af55f79c3587",
      "metadata": {
        "id": "8c1956db-f1d0-4673-9e41-af55f79c3587"
      },
      "outputs": [],
      "source": [
        "# test_df = pd.read_csv(\"./Tuningdata_11month_day17~30.csv\", header=None)\n",
        "test_df = pd.read_csv(\"./テストデータ.csv\", header=None, sheet_name=\"テスト\" )"
      ]
    },
    {
      "cell_type": "code",
      "execution_count": null,
      "id": "855e45be",
      "metadata": {
        "id": "855e45be"
      },
      "outputs": [],
      "source": [
        "# remove missing values\n",
        "test_df.dropna(inplace=True)"
      ]
    },
    {
      "cell_type": "code",
      "execution_count": null,
      "id": "47e685b5",
      "metadata": {
        "id": "47e685b5"
      },
      "outputs": [],
      "source": [
        "# confirmation of the number of each category\n",
        "pd.value_counts(test_df[0])"
      ]
    },
    {
      "cell_type": "code",
      "execution_count": null,
      "id": "92630800",
      "metadata": {
        "id": "92630800"
      },
      "outputs": [],
      "source": [
        "# get the first 100 characters of the question text and add them to the text column\n",
        "test_df.loc[:, 1] = test_df[1].apply(lambda x: str(x)[:100])\n",
        "test_df"
      ]
    },
    {
      "cell_type": "code",
      "execution_count": null,
      "id": "c578588a-7dd9-4f21-b512-c9cc8321d814",
      "metadata": {
        "id": "c578588a-7dd9-4f21-b512-c9cc8321d814"
      },
      "outputs": [],
      "source": [
        "# from datetime import datetime\n",
        "# s = datetime.now()\n",
        "test_preds = [\n",
        "    multi_nlu.analyze(\n",
        "        text=text[1].values[1],\n",
        "        features=Features(classifications=ClassificationsOptions(model=multi_model_id)),\n",
        "    ).get_result()\n",
        "    for text in test_df.iterrows()\n",
        "]\n",
        "# print(datetime.now() - s)\n",
        "test_preds[0]\n",
        "\n",
        "# output example\n",
        "# {'usage': {'text_units': 1, 'text_characters': 100, 'features': 1},\n",
        "#  'language': 'ja',\n",
        "#  'classifications': [{'confidence': 0.973921, 'class_name': 'カテゴリ１'},\n",
        "#   {'confidence': 0.010586, 'class_name': 'カテゴリ２'},\n",
        "#   {'confidence': 0.009018, 'class_name': 'カテゴリ３'}]}"
      ]
    },
    {
      "cell_type": "code",
      "execution_count": null,
      "id": "c50ebf83",
      "metadata": {
        "id": "c50ebf83"
      },
      "outputs": [],
      "source": [
        "# output the category corresponding to the prediction with the highest confidence\n",
        "def max_confidence(preds_list):\n",
        "    confidence = 0\n",
        "    class_name = \"\"\n",
        "    for pred in preds_list:\n",
        "        if pred[\"confidence\"] > confidence:\n",
        "            confidence = pred[\"confidence\"]\n",
        "            class_name = pred[\"class_name\"]\n",
        "    # return {confidence, class_name}\n",
        "    return class_name"
      ]
    },
    {
      "cell_type": "code",
      "execution_count": null,
      "id": "ceb4a5f5-f31e-4b34-ab34-08a3f777647a",
      "metadata": {
        "id": "ceb4a5f5-f31e-4b34-ab34-08a3f777647a"
      },
      "outputs": [],
      "source": [
        "# output final results\n",
        "def compute_final_predictions(model_preds):\n",
        "    \"\"\"Given a set of probabilities/confidence scores output by our model, return the final predicted labels\n",
        "    that have a confidence score above a given threshold.\n",
        "    \"\"\"\n",
        "    # Extract the class name and confidence score from the prediction object\n",
        "    model_preds = [pred[\"classifications\"] for pred in model_preds]\n",
        "\n",
        "    # model_preds = [\n",
        "    #     [pred_obj for pred_obj in pred_obj_list if pred_obj[\"confidence\"] > 0.]\n",
        "    #     for pred_obj_list in model_preds\n",
        "    # ]\n",
        "\n",
        "    # # Extract the class names\n",
        "    # final_preds = [\n",
        "    #     [pred_obj[\"class_name\"] for pred_obj in pred_obj_list]\n",
        "    #     for pred_obj_list in model_preds\n",
        "    # ]\n",
        "    # return final_preds\n",
        "\n",
        "    return [[max_confidence(pred_obj_list)] for pred_obj_list in model_preds]"
      ]
    },
    {
      "cell_type": "code",
      "execution_count": null,
      "id": "d85e6103-f78d-46a7-97b6-12c173977684",
      "metadata": {
        "id": "d85e6103-f78d-46a7-97b6-12c173977684"
      },
      "outputs": [],
      "source": [
        "threshold = 0\n",
        "final_preds = compute_final_predictions(test_preds)\n",
        "# confirmation of the final prediction\n",
        "final_preds"
      ]
    },
    {
      "cell_type": "code",
      "execution_count": null,
      "id": "a91c8e44-f56e-4730-bdc8-eb51355ffda2",
      "metadata": {
        "id": "a91c8e44-f56e-4730-bdc8-eb51355ffda2"
      },
      "outputs": [],
      "source": [
        "# confirmation of the correct labels on test data\n",
        "test_labels = test_df[0].apply(lambda x: [str(x)]).tolist()\n",
        "test_labels"
      ]
    },
    {
      "cell_type": "markdown",
      "id": "8VZ0-EV5RUVd",
      "metadata": {
        "id": "8VZ0-EV5RUVd"
      },
      "source": [
        "# Checked Model"
      ]
    },
    {
      "cell_type": "code",
      "execution_count": null,
      "id": "554308be-ffd5-4610-983e-299e0b0e749d",
      "metadata": {
        "id": "554308be-ffd5-4610-983e-299e0b0e749d"
      },
      "outputs": [],
      "source": [
        "# convert list labels to binary format\n",
        "from sklearn.preprocessing import MultiLabelBinarizer\n",
        "\n",
        "# （prepare the appropriate category labels for your data）\n",
        "label_names = [\n",
        "    [\n",
        "        \"カテゴリ１\",\n",
        "        \"カテゴリ２\",\n",
        "        \"カテゴリ３\",\n",
        "        \"カテゴリ４\",\n",
        "        \"カテゴリ５\",\n",
        "        \"カテゴリ６\",\n",
        "        \"カテゴリ７\",\n",
        "        \"カテゴリ８\",\n",
        "        \"カテゴリ９\",\n",
        "    ]\n",
        "]\n",
        "MLB = MultiLabelBinarizer().fit(label_names)"
      ]
    },
    {
      "cell_type": "code",
      "execution_count": null,
      "id": "3d2c3a00-3415-4eeb-9fe5-bb556dfd8e7e",
      "metadata": {
        "id": "3d2c3a00-3415-4eeb-9fe5-bb556dfd8e7e",
        "outputId": "9b99afa5-68c6-44d3-d84d-8a1063ef018e"
      },
      "outputs": [],
      "source": [
        "# Transform both our true labels and the model predictions\n",
        "y_true = MLB.transform(test_labels)\n",
        "y_pred = MLB.transform(final_preds)"
      ]
    },
    {
      "cell_type": "code",
      "execution_count": null,
      "id": "d8549248-bfd1-4a18-9354-7412db0eda1f",
      "metadata": {
        "id": "d8549248-bfd1-4a18-9354-7412db0eda1f",
        "outputId": "555705e5-3e41-4ca1-e9bf-2d9023a511d1"
      },
      "outputs": [],
      "source": [
        "accuracy_score(y_true, y_pred)"
      ]
    }
  ],
  "metadata": {
    "colab": {
      "provenance": []
    },
    "kernelspec": {
      "display_name": "Python 3 (ipykernel)",
      "language": "python",
      "name": "python3"
    },
    "language_info": {
      "codemirror_mode": {
        "name": "ipython",
        "version": 3
      },
      "file_extension": ".py",
      "mimetype": "text/x-python",
      "name": "python",
      "nbconvert_exporter": "python",
      "pygments_lexer": "ipython3",
      "version": "3.11.0"
    }
  },
  "nbformat": 4,
  "nbformat_minor": 5
}
