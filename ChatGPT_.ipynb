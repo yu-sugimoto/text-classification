{
  "cells": [
    {
      "cell_type": "code",
      "execution_count": null,
      "id": "8a01b3a9",
      "metadata": {
        "id": "8a01b3a9"
      },
      "outputs": [],
      "source": [
        "# !pip install openai==0.28\n",
        "# !pip install python-dotenv"
      ]
    },
    {
      "cell_type": "code",
      "execution_count": null,
      "id": "3cdfeb26",
      "metadata": {
        "id": "3cdfeb26"
      },
      "outputs": [],
      "source": [
        "# additional information about OpenAI\n",
        "AZURE_OPENAI_API_BASE='chatgpt-4-turbo'\n",
        "AZURE_OPENAI_KEY='****************'\n",
        "endpoint_name = \"**********************\"\n",
        "deployment_id = AZURE_OPENAI_API_BASE\n",
        "api_version = \"2023-05-15\"\n",
        "api_key = \"******************\""
      ]
    },
    {
      "cell_type": "code",
      "execution_count": null,
      "id": "cbbf97d6",
      "metadata": {
        "id": "cbbf97d6"
      },
      "outputs": [],
      "source": [
        "# setup information about OpenAI\n",
        "import os\n",
        "import openai\n",
        "from dotenv import load_dotenv\n",
        "AZURE_OPENAI_API_BASE = os.getenv(\"AZURE_OPENAI_API_BASE\")\n",
        "openai.api_type = \"azure\"\n",
        "openai.api_base = endpoint_name\n",
        "openai.api_version = api_version\n",
        "openai.api_key = api_key"
      ]
    },
    {
      "cell_type": "code",
      "execution_count": null,
      "id": "336f7f24",
      "metadata": {
        "id": "336f7f24"
      },
      "outputs": [],
      "source": [
        "# for output\n",
        "from IPython.display import display, Markdown\n",
        "\n",
        "def chat(messages, max_tokens=1000):\n",
        "    response = openai.ChatCompletion.create(\n",
        "        engine=deployment_id,\n",
        "        messages=messages,\n",
        "        max_tokens=max_tokens\n",
        "    )\n",
        "    return response[\"choices\"][0][\"message\"][\"content\"]"
      ]
    },
    {
      "cell_type": "code",
      "execution_count": null,
      "id": "a036b98c",
      "metadata": {
        "id": "a036b98c"
      },
      "outputs": [],
      "source": [
        "import csv\n",
        "\n",
        "category_list = list()\n",
        "# path of csv file\n",
        "input_file_path = \"input.csv\"   # colum = Category, Content\n",
        "read_file_path = \"read.csv\"     # colum = Category, Content\n",
        "output_file_path = \"output.csv\" # column = Content, ChatGPT, Answer, Check\n",
        "prompt = \"\"\"### 指示 ###\n",
        "入力された文章を1つのCategoryに分類して\"分類のみ\"を出力してください．\n",
        "\n",
        "\"\"\"\n",
        "# prompt+=\"\"\"\\n### 入力例と出力例 ###\\n形式は分類:文章です．\\n\\n\"\"\"\n",
        "\n",
        "with open(input_file_path, mode='r', encoding='cp932') as file:\n",
        "    reader = csv.DictReader(file)\n",
        "    for i, row in enumerate(reader):\n",
        "        # prompt+=f\"{i+1}.\"+str(row['Category'])+\"\\n:\"+str(row['Content'])+\"\\n\\n\"\n",
        "        # prompt+=f\"{i+1}.\"+str(row['Category'])+\"\\n:\"+str(row['Content'])+\"\\n\\n\"\n",
        "        category_list.append(str(row['Category']))\n",
        "\n",
        "# remove duplicate categorizations\n",
        "category_list = list(set(category_list))\n",
        "# category_str = str(category_list).replace(\"[\", \"\").replace(\"]\", \"\")\n",
        "\n",
        "prompt+=\"\\n### 分類の種類 ###\\n\"\n",
        "for c in category_list:\n",
        "    prompt += c+\", \""
      ]
    },
    {
      "cell_type": "code",
      "execution_count": null,
      "id": "bc403378",
      "metadata": {
        "id": "bc403378"
      },
      "outputs": [],
      "source": [
        "# open csv file\n",
        "output_answer_list = list()\n",
        "output_content_list = list()\n",
        "output_category_list = list()\n",
        "output_check_list = list()\n",
        "all_num = 0\n",
        "correct_num = 0\n",
        "\n",
        "# construct a new string by removing the numbers\n",
        "def remove_digits(input_str):\n",
        "    result = ''.join([char for char in input_str if not char.isdigit()])\n",
        "    return result\n",
        "\n",
        "with open(read_file_path, mode='r', encoding='cp932') as file:\n",
        "    reader = csv.DictReader(file)\n",
        "\n",
        "    for i, row in enumerate(reader):\n",
        "        category = str(row['Category'])\n",
        "        content = str(row['Content'])\n",
        "        output_content=f\"{i+1}.\"+str(content)+\"\\n\"\n",
        "        # print(f\"Category\\t:{category}\\nContent\\t:{content}\")\n",
        "\n",
        "        output_content_list.append(content)\n",
        "        output_answer_list.append(category)\n",
        "        # message = prompt+\"\\n### 文章 ###\\n\"+output_content[:100] + output_content[-100:]\n",
        "\n",
        "        # if there are categories that are difficult to determine（classify categories with poor accuracy first）\n",
        "        # prompt_assistant = \"\"\"\n",
        "        # ### 指示 ###\n",
        "        # 入力された文章が「\"※判断の困難なカテゴリ名\"」に分類されるか考え，分類される場合True，分類されない場合False，を出力してください．\n",
        "        # なお，「\"※判断の困難なカテゴリ名\"」の例文を下に示す\n",
        "\n",
        "        # ### 例文 ###\n",
        "        # 1. hogehoge 2. hogehoge 3. hogehoge 4. hogehoge 5. hogehoge\n",
        "        # \"\"\"\n",
        "\n",
        "        message = prompt+\"\\n### 文章 ###\\n\"+output_content\n",
        "        # GPT生成\n",
        "        # 会話履歴を初期化\n",
        "        conversation_history = [{\"role\": \"system\", \"content\": \"You are a helpful assistant.\"}]\n",
        "        conversation_history.append({\"role\": \"user\", \"content\": message})\n",
        "\n",
        "        # レスポンス出力\n",
        "        response = \"\"\n",
        "\n",
        "        try:\n",
        "            assistant_boolean = chat(conversation_history)\n",
        "        except:\n",
        "            assistant_boolean = \"False\"\n",
        "            pass\n",
        "\n",
        "        # if there are categories that are difficult to determine\n",
        "        if assistant_boolean.lower() == \"true\":\n",
        "            response = \"※判断の困難なカテゴリ名\"\n",
        "        else:\n",
        "            message = prompt+\"\\n### 文章 ###\\n\"+output_content\n",
        "            # chat generation\n",
        "            # initialize conversation history\n",
        "            conversation_history = [{\"role\": \"system\", \"content\": \"You are a helpful assistant.\"}]\n",
        "            conversation_history.append({\"role\": \"user\", \"content\": message})\n",
        "            response = \"\"\n",
        "            try:\n",
        "                response = chat(conversation_history)\n",
        "            except:\n",
        "                response = \"Error\"\n",
        "                pass\n",
        "\n",
        "            # response fluctuation elimination\n",
        "            response_without_number = remove_digits(response)\n",
        "            response_modified = response_without_number.replace(\".\", \"\").replace(\" \", \"\")\n",
        "            if \":\" in response_modified:\n",
        "                response_modified = response_modified.split(\":\")[0]\n",
        "            output_category_list.append(response_modified)\n",
        "\n",
        "        # Acuuracy calculation\n",
        "        if response != \"Error\":\n",
        "            check_flag = \"\"\n",
        "            all_num+=1\n",
        "            if category in str(response):\n",
        "                correct_num+=1\n",
        "                check_flag = \"o\"\n",
        "            else:\n",
        "                check_flag = \"x\"\n",
        "            output_check_list.append(check_flag)\n",
        "        print(f\"{str(i).zfill(2)}.[{check_flag}]\\tChatGPT: {response}\\t正解:{category}\")\n",
        "        # display(Markdown(response_modified))\n",
        "        # conversation_history.append({\"role\": \"assistant\", \"content\": response})"
      ]
    },
    {
      "cell_type": "code",
      "execution_count": null,
      "id": "50387cc5",
      "metadata": {
        "id": "50387cc5"
      },
      "outputs": [],
      "source": [
        "# Acuuracy calculation (final result)\n",
        "with open(output_file_path, mode='w', encoding='cp932', newline='') as csvfile:\n",
        "    writer = csv.DictWriter(csvfile, ['Content', 'ChatGPT', 'Answer', \"Check\"])\n",
        "    writer.writeheader()\n",
        "    for content, category, answer, check in zip(output_content_list, output_category_list, output_answer_list, output_check_list):\n",
        "        writer.writerows([{'Content': content, 'ChatGPT': category, 'Answer': answer, \"Check\": check}])\n",
        "print(f\"accuracy => {float(correct_num)/all_num}\")"
      ]
    }
  ],
  "metadata": {
    "colab": {
      "provenance": []
    },
    "kernelspec": {
      "display_name": "Python 3 (ipykernel)",
      "language": "python",
      "name": "python3"
    },
    "language_info": {
      "codemirror_mode": {
        "name": "ipython",
        "version": 3
      },
      "file_extension": ".py",
      "mimetype": "text/x-python",
      "name": "python",
      "nbconvert_exporter": "python",
      "pygments_lexer": "ipython3",
      "version": "3.11.0"
    }
  },
  "nbformat": 4,
  "nbformat_minor": 5
}
